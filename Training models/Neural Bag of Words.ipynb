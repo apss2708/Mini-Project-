{
 "cells": [
  {
   "cell_type": "code",
   "execution_count": 1,
   "id": "f330ed43",
   "metadata": {},
   "outputs": [
    {
     "name": "stderr",
     "output_type": "stream",
     "text": [
      "/Users/ayush/Desktop/MINI PROJECT/pytorch-sentiment-analysis-main/venv/lib/python3.12/site-packages/tqdm/auto.py:21: TqdmWarning: IProgress not found. Please update jupyter and ipywidgets. See https://ipywidgets.readthedocs.io/en/stable/user_install.html\n",
      "  from .autonotebook import tqdm as notebook_tqdm\n"
     ]
    }
   ],
   "source": [
    "import torch\n",
    "import collections\n",
    "import datasets\n",
    "import numpy as np\n",
    "import pandas as pd\n",
    "import tqdm\n",
    "from transformers import AutoTokenizer\n",
    "from collections import Counter\n",
    "import matplotlib.pyplot as plt\n",
    "import torch.nn as nn\n",
    "import torch.optim as optim\n",
    "import os"
   ]
  },
  {
   "cell_type": "code",
   "execution_count": 2,
   "id": "862dd437",
   "metadata": {},
   "outputs": [],
   "source": [
    "seed = 1234\n",
    "np.random.seed(seed)\n",
    "torch.manual_seed(seed)\n",
    "torch.cuda.manual_seed(seed)\n",
    "torch.backends.cudnn.deterministic = True"
   ]
  },
  {
   "cell_type": "code",
   "execution_count": 3,
   "id": "9b447484",
   "metadata": {},
   "outputs": [],
   "source": [
    "train_data = pd.read_csv('/Users/ayush/Desktop/MINI PROJECT/pytorch-sentiment-analysis-main/legacy/data/train.csv')\n",
    "valid_data = pd.read_csv('/Users/ayush/Desktop/MINI PROJECT/pytorch-sentiment-analysis-main/legacy/data/valid.csv')\n",
    "test_data = pd.read_csv('/Users/ayush/Desktop/MINI PROJECT/pytorch-sentiment-analysis-main/legacy/data/test.csv')"
   ]
  },
  {
   "cell_type": "code",
   "execution_count": 4,
   "id": "0756a505",
   "metadata": {},
   "outputs": [],
   "source": [
    "tokenizer = AutoTokenizer.from_pretrained(\"bert-base-uncased\")"
   ]
  },
  {
   "cell_type": "code",
   "execution_count": 5,
   "id": "26cc768f",
   "metadata": {},
   "outputs": [],
   "source": [
    "def tokenize_function(example):\n",
    "    return tokenizer(example[\"text\"], padding=\"max_length\", truncation=True, max_length=256)"
   ]
  },
  {
   "cell_type": "code",
   "execution_count": 6,
   "id": "ce7a12a6",
   "metadata": {},
   "outputs": [],
   "source": [
    "train_data[\"input_ids\"] = train_data[\"quote\"].apply(lambda x: tokenize_function({\"text\": x})[\"input_ids\"]) \n",
    "valid_data[\"input_ids\"] = valid_data[\"quote\"].apply(lambda x: tokenize_function({\"text\": x})[\"input_ids\"]) \n",
    "test_data[\"input_ids\"] = test_data[\"quote\"].apply(lambda x: tokenize_function({\"text\": x})[\"input_ids\"]) "
   ]
  },
  {
   "cell_type": "code",
   "execution_count": 7,
   "id": "76c7a096",
   "metadata": {},
   "outputs": [],
   "source": [
    "special_tokens = ['<unk>', '<pad>']"
   ]
  },
  {
   "cell_type": "code",
   "execution_count": 8,
   "id": "7962c58d",
   "metadata": {},
   "outputs": [],
   "source": [
    "def build_vocab(data, min_freq, special_tokens):\n",
    "    all_tokens = [token for example_tokens in data[\"input_ids\"] for token in example_tokens]\n",
    "    counter = Counter(all_tokens)\n",
    "    filtered_tokens = [token for token, freq in counter.items() if freq >= min_freq]\n",
    "    vocab_tokens = special_tokens + filtered_tokens\n",
    "    token_to_idx = {token: idx for idx, token in enumerate(vocab_tokens)}\n",
    "    return token_to_idx"
   ]
  },
  {
   "cell_type": "code",
   "execution_count": 9,
   "id": "f8f8542a",
   "metadata": {},
   "outputs": [],
   "source": [
    "min_freq = 5"
   ]
  },
  {
   "cell_type": "code",
   "execution_count": 10,
   "id": "8679ca3a",
   "metadata": {},
   "outputs": [],
   "source": [
    "vocab = build_vocab(train_data, min_freq, special_tokens)\n",
    "vocab_size = len(vocab)"
   ]
  },
  {
   "cell_type": "code",
   "execution_count": 11,
   "id": "d535cf3f",
   "metadata": {},
   "outputs": [],
   "source": [
    "unk_index = vocab[\"<unk>\"]\n",
    "pad_index = vocab[\"<pad>\"]"
   ]
  },
  {
   "cell_type": "code",
   "execution_count": 12,
   "id": "1ad8c108",
   "metadata": {},
   "outputs": [],
   "source": [
    "def numericalize_example(example, vocab):\n",
    "    ids = [vocab.get(token, unk_index) for token in example[\"input_ids\"]]\n",
    "    return {\"ids\": ids}\n",
    "\n",
    "train_data[\"ids\"] = train_data.apply(lambda x: numericalize_example(x, vocab)[\"ids\"], axis=1)\n",
    "valid_data[\"ids\"] = valid_data.apply(lambda x: numericalize_example(x, vocab)[\"ids\"], axis=1)\n",
    "test_data[\"ids\"] = test_data.apply(lambda x: numericalize_example(x, vocab)[\"ids\"], axis=1)"
   ]
  },
  {
   "cell_type": "code",
   "execution_count": 13,
   "id": "c7560a02",
   "metadata": {},
   "outputs": [],
   "source": [
    "def numericalize_example(example, vocab):\n",
    "    ids = [vocab.get(token, unk_index) for token in example[\"input_ids\"]]\n",
    "    return {\"ids\": ids}\n",
    "\n",
    "train_data[\"ids\"] = train_data.apply(lambda x: numericalize_example(x, vocab)[\"ids\"], axis=1)\n",
    "valid_data[\"ids\"] = valid_data.apply(lambda x: numericalize_example(x, vocab)[\"ids\"], axis=1)\n",
    "test_data[\"ids\"] = test_data.apply(lambda x: numericalize_example(x, vocab)[\"ids\"], axis=1)"
   ]
  },
  {
   "cell_type": "code",
   "execution_count": 14,
   "id": "2bd83cde",
   "metadata": {},
   "outputs": [],
   "source": [
    "def get_collate_fn(pad_index):\n",
    "    def collate_fn(batch):\n",
    "        batch_ids = [i[\"ids\"] for i in batch]\n",
    "        batch_ids = nn.utils.rnn.pad_sequence(batch_ids, padding_value=pad_index, batch_first=True)\n",
    "        batch_label = [i[\"label\"] for i in batch]\n",
    "        batch_label = torch.stack(batch_label)\n",
    "        batch = {\"ids\": batch_ids, \"label\": batch_label}\n",
    "        return batch\n",
    "    return collate_fn"
   ]
  },
  {
   "cell_type": "code",
   "execution_count": 15,
   "id": "5db5ba4e",
   "metadata": {},
   "outputs": [],
   "source": [
    "def get_data_loader(dataset, batch_size, pad_index, shuffle=False):\n",
    "    collate_fn = get_collate_fn(pad_index)\n",
    "    data_loader = torch.utils.data.DataLoader(\n",
    "        dataset=dataset,\n",
    "        batch_size=batch_size,\n",
    "        collate_fn=collate_fn,\n",
    "        shuffle=shuffle,\n",
    "    )\n",
    "    return data_loader\n",
    "\n",
    "batch_size = 512\n",
    "train_data_loader = get_data_loader(train_data, batch_size, pad_index, shuffle=True)\n",
    "valid_data_loader = get_data_loader(valid_data, batch_size, pad_index)\n",
    "test_data_loader = get_data_loader(test_data, batch_size, pad_index)\n"
   ]
  },
  {
   "cell_type": "code",
   "execution_count": 16,
   "id": "299eb4b4",
   "metadata": {},
   "outputs": [],
   "source": [
    "class NBoW(nn.Module):\n",
    "    def __init__(self, vocab_size, embedding_dim, output_dim, pad_index):\n",
    "        super().__init__()\n",
    "        self.embedding = nn.Embedding(vocab_size, embedding_dim, padding_idx=pad_index)\n",
    "        self.fc = nn.Linear(embedding_dim, output_dim)\n",
    "\n",
    "    def forward(self, ids):\n",
    "        embedded = self.embedding(ids)\n",
    "        pooled = embedded.mean(dim=1)\n",
    "        prediction = self.fc(pooled)\n",
    "        return prediction\n",
    "\n",
    "vocab_size = len(vocab)\n",
    "embedding_dim = 300\n",
    "output_dim = 2 "
   ]
  },
  {
   "cell_type": "code",
   "execution_count": 17,
   "id": "a436e307",
   "metadata": {},
   "outputs": [],
   "source": [
    "model = NBoW(vocab_size, embedding_dim, output_dim, pad_index)"
   ]
  },
  {
   "cell_type": "code",
   "execution_count": 18,
   "id": "854731f7",
   "metadata": {},
   "outputs": [
    {
     "data": {
      "text/plain": [
       "tensor([[ 7.3982e-02, -7.6504e-02,  2.0154e-02, -5.1287e-02,  7.7905e-02,\n",
       "          6.0818e-02,  9.8143e-02,  5.0142e-03, -3.4126e-02,  8.1135e-02,\n",
       "          6.9262e-02,  2.5685e-03,  4.2648e-02, -4.3600e-02,  5.7352e-02,\n",
       "          6.4701e-02,  6.5090e-02, -5.2615e-02,  3.6773e-02, -1.9464e-02,\n",
       "          9.7449e-02, -2.6803e-02, -6.1498e-02, -8.5190e-02,  8.9110e-02,\n",
       "         -9.1730e-02, -2.2153e-02, -4.0395e-02, -5.7088e-02, -2.2296e-02,\n",
       "         -2.4422e-02, -8.6448e-02, -4.3758e-02,  4.4371e-02,  3.8965e-02,\n",
       "          8.9397e-02, -2.0915e-02, -8.4749e-02,  5.3695e-02, -3.4217e-02,\n",
       "         -2.8949e-02,  4.7238e-02,  9.9693e-02,  8.5529e-02,  1.9860e-02,\n",
       "         -1.9291e-02,  2.1476e-02, -2.7863e-02,  7.1237e-02,  2.3497e-02,\n",
       "          6.3690e-02, -3.3678e-03,  1.2544e-02,  6.6739e-02, -4.5157e-02,\n",
       "          8.7983e-02, -5.8320e-02,  7.4507e-02, -6.6778e-02, -8.1310e-02,\n",
       "         -8.2940e-02, -4.7173e-03,  3.8768e-02,  1.8060e-02, -7.3089e-02,\n",
       "         -3.5362e-02, -6.7732e-02,  3.3506e-02,  2.3422e-02,  4.1334e-02,\n",
       "          8.2280e-02, -4.1388e-02, -6.4625e-02, -6.5354e-02, -5.1232e-02,\n",
       "          7.2083e-02,  7.6556e-02, -3.4621e-02, -9.2721e-03, -5.3092e-02,\n",
       "         -2.3384e-02, -8.9640e-02,  4.6330e-02,  4.7188e-02, -7.2292e-02,\n",
       "         -5.1824e-03, -2.6788e-02,  5.3518e-02,  7.0683e-02,  1.3582e-02,\n",
       "         -8.2249e-02, -7.8984e-02,  9.0544e-02, -2.1681e-02, -8.3232e-03,\n",
       "         -4.4939e-02, -5.5964e-02,  4.9785e-02, -2.6247e-03,  1.7134e-02,\n",
       "         -8.1795e-02,  8.1383e-02,  6.5057e-02,  9.9379e-02,  7.7538e-02,\n",
       "          4.3044e-02,  1.1734e-02, -8.4366e-02, -7.2586e-02,  1.2318e-03,\n",
       "          5.8844e-02,  2.3752e-03,  4.9517e-02,  6.1616e-03, -1.7212e-02,\n",
       "          1.8971e-02, -1.4687e-04, -5.2915e-02, -3.5891e-02,  7.8499e-02,\n",
       "          6.9745e-02, -1.4807e-02, -7.3165e-02,  8.0061e-02, -5.8358e-02,\n",
       "          4.3878e-03,  3.2015e-02, -1.8723e-03, -2.8677e-02,  8.1949e-02,\n",
       "          5.7827e-02, -9.6418e-02, -5.4602e-02,  2.7740e-03,  4.0912e-02,\n",
       "          4.0787e-02, -2.5823e-02, -7.2396e-02,  9.4072e-02, -7.3900e-02,\n",
       "         -7.4529e-02,  9.8077e-02,  3.7413e-02,  4.4388e-02, -5.9404e-02,\n",
       "         -6.2087e-02,  2.9172e-02, -1.6880e-02,  7.8674e-02, -3.3602e-02,\n",
       "          9.7220e-02,  3.7818e-02, -4.3998e-02, -7.9640e-02,  6.0390e-02,\n",
       "         -4.7533e-02, -8.0087e-02,  1.4050e-02,  5.0987e-02, -2.2222e-02,\n",
       "          1.0311e-02, -4.3948e-02,  7.6876e-02,  9.1507e-02,  6.5276e-02,\n",
       "         -9.6688e-02, -9.1348e-02,  5.5525e-02,  8.6669e-02,  5.3399e-02,\n",
       "          9.9707e-03, -1.9927e-02, -7.5062e-02, -1.3956e-02,  9.4413e-02,\n",
       "         -1.0383e-02, -9.5973e-02,  1.4475e-02, -9.0858e-02,  7.0988e-02,\n",
       "         -5.8059e-03,  1.2164e-02,  1.8167e-02, -1.3626e-02,  2.0836e-02,\n",
       "         -7.3247e-02,  1.5671e-02,  3.8340e-02, -7.1050e-02, -9.5544e-02,\n",
       "          1.7949e-03,  2.7026e-02, -2.8151e-02, -6.3023e-02, -6.4154e-03,\n",
       "          4.8782e-02, -5.8272e-02, -9.3276e-02,  9.6599e-02, -9.4331e-02,\n",
       "         -1.5414e-02,  4.6950e-02, -6.2113e-02, -8.9075e-03, -3.9550e-03,\n",
       "          1.3883e-02,  2.3448e-02, -4.7905e-02,  6.8185e-02,  1.2596e-02,\n",
       "          9.8776e-02,  6.8204e-03, -4.9262e-02,  3.3417e-03,  9.4488e-02,\n",
       "         -6.5887e-02, -8.6849e-03, -5.7384e-02, -5.0652e-02,  7.5441e-02,\n",
       "          8.8010e-02,  5.7075e-02, -6.7205e-02, -5.1866e-02, -8.4126e-02,\n",
       "         -3.3571e-02,  2.9895e-02,  7.0145e-02, -4.4137e-02, -5.6851e-02,\n",
       "          3.3355e-02,  8.1359e-02,  8.3964e-03,  7.2166e-02,  8.4990e-02,\n",
       "         -1.7387e-02,  9.2875e-02,  7.2961e-02,  2.6815e-02, -8.6684e-02,\n",
       "         -3.0870e-02, -2.1413e-02,  8.6629e-05, -8.7430e-02,  7.5958e-02,\n",
       "          6.8453e-02,  1.4808e-02, -8.1056e-02, -6.5451e-02, -9.9260e-02,\n",
       "         -3.5270e-02,  6.1062e-02, -7.6156e-02,  6.7134e-02, -1.7589e-02,\n",
       "         -9.6665e-03, -3.4065e-02,  2.1738e-02, -3.5434e-02, -4.9805e-02,\n",
       "          1.5730e-02, -8.1253e-02,  3.5587e-02, -7.3528e-02,  7.6467e-02,\n",
       "          6.9722e-02, -6.9842e-03,  4.9675e-03,  8.6657e-03,  3.4133e-02,\n",
       "         -1.5462e-02,  1.5856e-02, -9.1293e-03, -6.5055e-02,  3.8519e-02,\n",
       "         -8.0809e-02, -1.7258e-02,  9.4228e-02, -1.4027e-03, -6.4759e-03,\n",
       "          4.5871e-02,  9.2270e-02,  3.9636e-02, -3.0646e-02,  6.7502e-02,\n",
       "         -6.4627e-03,  1.2439e-02,  5.9327e-02, -1.4344e-02,  3.8660e-02,\n",
       "         -5.9506e-03,  5.1393e-02,  7.1752e-02,  2.1385e-02, -7.3878e-03,\n",
       "         -7.9625e-02, -5.4464e-02, -2.1487e-02,  8.8933e-02,  4.0640e-03],\n",
       "        [ 3.5169e-02, -5.6106e-02,  2.2867e-02, -6.9138e-02, -4.9870e-02,\n",
       "         -9.1551e-02,  6.7549e-02, -6.5920e-02, -5.8016e-02,  6.4136e-02,\n",
       "          7.4709e-02,  5.3250e-02,  8.5748e-02, -6.5210e-02,  2.5465e-02,\n",
       "         -4.9625e-02, -8.9980e-02, -5.5602e-02, -3.7572e-02, -1.3808e-02,\n",
       "         -2.0225e-02, -4.4720e-03, -9.1260e-02,  7.6327e-02,  9.4610e-02,\n",
       "          5.4934e-02,  9.8097e-02, -2.7325e-02, -9.2411e-03, -8.5171e-02,\n",
       "          1.1135e-02, -7.3004e-02, -9.2669e-02, -3.5716e-03, -4.5998e-02,\n",
       "         -7.9188e-02,  4.1687e-03, -1.2632e-02,  9.0979e-02, -5.5569e-03,\n",
       "          2.2838e-02,  8.1245e-02, -2.4812e-02,  7.0602e-02,  9.3685e-02,\n",
       "         -4.2094e-02, -8.1088e-02,  5.5271e-02, -4.8928e-02, -8.4118e-02,\n",
       "         -9.0991e-02,  9.4183e-02,  9.5263e-02, -7.6300e-02, -4.3967e-02,\n",
       "          2.6561e-02,  9.7189e-03, -6.6291e-03, -1.5002e-02, -2.3943e-02,\n",
       "         -7.1426e-02,  5.6088e-05,  1.1051e-02,  9.2980e-02, -1.9649e-02,\n",
       "          4.2021e-02,  6.6826e-02, -9.5863e-02, -9.4625e-03,  9.9305e-02,\n",
       "         -3.5402e-02,  2.8655e-02, -9.9147e-03, -1.0443e-02,  6.1982e-02,\n",
       "         -9.6775e-03, -6.5040e-02,  4.8379e-02, -3.2326e-02,  2.6629e-03,\n",
       "          4.8970e-02, -3.6134e-02, -7.6859e-02, -6.5923e-02,  9.3303e-02,\n",
       "         -3.4187e-02,  5.8025e-02, -6.6618e-02,  7.0552e-02,  8.3635e-02,\n",
       "          7.4918e-03, -3.3075e-02,  6.4610e-02,  3.8511e-02, -3.5614e-02,\n",
       "         -8.2108e-02,  6.2120e-02, -4.5879e-02,  4.0015e-02, -9.5372e-02,\n",
       "         -9.1678e-02,  5.8426e-02, -3.2127e-02,  8.6743e-02, -7.0832e-03,\n",
       "          6.9156e-02, -2.1567e-02,  8.9695e-02, -7.8720e-02, -3.4632e-02,\n",
       "         -1.0132e-02, -8.4330e-02, -1.0630e-02, -7.2467e-02,  2.5097e-02,\n",
       "          1.7536e-02, -9.2462e-02, -8.9098e-02, -9.7969e-02,  1.0870e-02,\n",
       "          2.0620e-02, -2.0709e-02,  7.1506e-02, -9.1547e-02,  3.7367e-02,\n",
       "          7.4070e-02, -8.8628e-02, -1.2728e-02,  8.1962e-02,  4.4743e-02,\n",
       "         -7.3601e-03, -1.2272e-02,  6.7939e-02, -1.0014e-02, -8.6133e-02,\n",
       "         -2.7686e-02,  6.0883e-02,  4.5608e-02, -1.2272e-02,  3.2058e-02,\n",
       "         -4.2603e-02, -5.8412e-02,  6.2678e-02, -7.6725e-02, -7.4424e-02,\n",
       "          6.6647e-02, -6.1508e-02, -6.5491e-02,  8.2113e-02,  6.1247e-02,\n",
       "         -8.8037e-02, -1.7760e-02, -9.8275e-02, -5.3970e-02, -6.5787e-02,\n",
       "         -1.4533e-02, -3.5966e-02, -5.2868e-02,  5.9885e-02, -6.3288e-02,\n",
       "         -4.1366e-02,  2.7063e-03,  2.5957e-02,  8.3364e-02, -2.8332e-02,\n",
       "         -2.7254e-02,  1.6981e-02, -9.1618e-03,  3.3518e-02,  6.8170e-03,\n",
       "          9.7195e-02, -6.0350e-02,  8.6917e-02, -5.9526e-02,  4.3274e-02,\n",
       "          5.1057e-02,  1.4579e-02, -4.5794e-02,  3.9779e-02,  6.8760e-02,\n",
       "         -6.5037e-02, -2.7472e-02,  3.6648e-02, -3.9254e-02, -5.2543e-02,\n",
       "          4.1034e-02,  8.5211e-02,  5.3439e-02, -4.9400e-02, -1.3627e-02,\n",
       "          4.6738e-02,  4.3274e-03, -5.1410e-02,  2.9849e-02,  7.8340e-02,\n",
       "          3.0346e-02,  8.4684e-02, -2.0284e-02, -1.0433e-02,  7.2453e-02,\n",
       "         -3.0715e-02, -2.0383e-02, -2.1358e-02,  7.7711e-02, -9.9726e-03,\n",
       "          6.0195e-02,  3.7162e-02,  4.5758e-02, -1.8240e-02, -9.7480e-02,\n",
       "          9.6271e-02, -2.3596e-02,  2.8749e-02, -9.3327e-02,  1.0707e-02,\n",
       "          4.9703e-03,  8.4093e-02,  6.6462e-02, -6.7372e-02,  2.7007e-02,\n",
       "          7.5472e-02,  6.3828e-02, -7.7735e-02,  9.6066e-02,  1.6028e-02,\n",
       "          6.2866e-02,  7.6145e-03,  2.6008e-02,  7.4321e-02,  1.2815e-02,\n",
       "          5.9848e-02,  7.0049e-02,  5.8995e-02,  5.2239e-02, -8.4595e-03,\n",
       "          1.7789e-02,  2.4710e-02, -1.8115e-02, -8.0658e-02,  3.6503e-02,\n",
       "          2.9624e-02, -8.1806e-03, -9.3830e-02,  8.5673e-02,  3.0909e-02,\n",
       "         -4.9186e-02,  9.3096e-02, -6.1188e-02, -3.2150e-03,  1.6262e-02,\n",
       "         -2.1286e-02, -3.8597e-02, -4.7577e-02,  5.7563e-02, -3.0937e-03,\n",
       "          1.8346e-02,  8.4722e-02, -6.8728e-02, -1.3719e-02, -7.2529e-02,\n",
       "         -2.4940e-02, -5.7125e-02,  2.2677e-02,  2.6017e-03,  5.0330e-02,\n",
       "          6.1986e-02, -6.4147e-02,  7.6364e-02,  2.1908e-02,  4.0039e-02,\n",
       "          4.9333e-02,  6.3631e-02,  6.6313e-02, -9.0644e-02, -9.8922e-02,\n",
       "          7.6411e-02, -2.1824e-02, -8.0154e-02,  6.8542e-02, -7.2476e-02,\n",
       "          8.4082e-02, -3.4105e-03, -6.6984e-02,  2.8486e-02,  1.3126e-02,\n",
       "         -6.9970e-02, -8.2255e-02, -6.5034e-02, -5.2962e-02, -2.1154e-03,\n",
       "          8.1464e-02,  3.3576e-02,  6.4694e-03, -5.6538e-02, -9.5723e-02,\n",
       "          2.5535e-02, -9.4773e-02,  7.6355e-02, -4.9514e-02,  2.3501e-02],\n",
       "        [ 3.0308e-03, -8.3350e-02, -6.0653e-02,  2.1616e-02,  1.6897e-02,\n",
       "         -4.8765e-02,  6.3217e-03, -7.7517e-02,  5.2772e-02, -5.2289e-02,\n",
       "          4.9714e-02, -7.5481e-02,  5.1752e-02,  7.3785e-02,  5.0849e-02,\n",
       "          7.7029e-02,  8.9029e-02,  7.0061e-02,  6.2277e-03,  7.6075e-02,\n",
       "         -1.9817e-02,  2.2206e-02,  3.3087e-02,  4.0157e-02, -6.3843e-02,\n",
       "          1.9205e-02, -3.5929e-02,  5.1857e-02, -1.0116e-02, -7.2065e-03,\n",
       "          5.6922e-02,  6.2470e-02, -3.7899e-02,  5.8879e-02,  2.3477e-03,\n",
       "         -6.4763e-02, -1.7176e-03,  8.8572e-02,  6.5963e-02,  8.1648e-02,\n",
       "         -1.5015e-02,  7.7676e-02,  7.8453e-02,  5.5369e-02, -1.1197e-02,\n",
       "         -6.7204e-02, -1.8851e-02,  1.2357e-02, -4.7851e-02,  6.3029e-02,\n",
       "         -9.6410e-02, -4.5068e-02, -5.5923e-02, -4.0643e-02,  1.3804e-02,\n",
       "         -1.9305e-02,  3.1677e-02,  4.2044e-02,  6.9508e-02, -8.9946e-02,\n",
       "         -4.9272e-02,  8.1619e-02,  9.7424e-02,  6.1174e-02, -9.7369e-02,\n",
       "         -3.2985e-03,  5.5724e-02, -1.5556e-02,  7.8333e-02,  8.5661e-02,\n",
       "         -2.0612e-02,  3.3875e-02, -1.3198e-03,  7.9120e-03,  8.7096e-02,\n",
       "          2.2298e-02,  8.2784e-02,  3.5629e-02, -1.7631e-02,  8.8620e-02,\n",
       "         -6.6294e-02, -7.5876e-02,  4.1669e-02,  7.1514e-02, -6.9296e-02,\n",
       "          1.0752e-02, -5.9892e-02,  4.6492e-02, -6.8676e-02, -8.3368e-02,\n",
       "         -1.3488e-02,  9.2521e-02, -3.5950e-02, -8.6037e-02, -2.7319e-02,\n",
       "          3.6374e-02,  4.8165e-02,  8.9878e-02,  2.4283e-02,  5.7025e-02,\n",
       "         -2.0198e-03, -2.8919e-02, -3.8579e-03,  8.7729e-02,  2.2137e-02,\n",
       "          3.2245e-02,  1.0535e-02, -5.4820e-02, -1.0613e-02, -3.3993e-02,\n",
       "          9.6082e-02, -8.1257e-03,  2.1274e-02,  8.7087e-02, -3.1554e-02,\n",
       "          5.1198e-02, -5.0185e-02, -5.0688e-02,  4.9326e-02,  9.7492e-03,\n",
       "          6.9463e-02,  1.2689e-02,  3.8376e-03,  7.2699e-02, -9.5375e-03,\n",
       "         -5.8104e-02,  8.4569e-02, -3.5523e-02, -8.6228e-02,  9.0620e-02,\n",
       "         -8.1684e-02, -2.6565e-02,  7.9482e-02, -6.7025e-02,  7.5089e-02,\n",
       "          9.2893e-02,  5.1986e-02, -7.4623e-03, -2.5427e-02,  7.0192e-02,\n",
       "         -7.1950e-02, -4.5196e-03, -8.7253e-02, -3.8709e-02,  6.9579e-03,\n",
       "         -2.8204e-02,  3.8924e-02, -3.8110e-02, -7.6782e-02,  8.0672e-02,\n",
       "          2.8594e-02, -2.0417e-02,  2.7845e-03, -7.1006e-02, -1.2430e-02,\n",
       "          7.9308e-02, -5.1836e-02, -8.2830e-02,  4.2447e-02, -6.0418e-02,\n",
       "         -4.6184e-02,  9.7544e-02, -9.0730e-02, -5.8163e-02,  5.4932e-02,\n",
       "          7.2454e-03,  3.1564e-02,  8.6548e-02,  7.7942e-03, -7.5772e-02,\n",
       "          9.5526e-03, -9.4341e-02,  1.5968e-02, -2.6901e-03, -6.1774e-02,\n",
       "          5.9165e-02,  2.8935e-02,  7.6259e-03,  6.1378e-02,  5.8896e-02,\n",
       "          3.6041e-02,  2.2326e-02,  1.4740e-02,  1.3077e-02,  5.4894e-02,\n",
       "         -6.6705e-02,  2.7478e-02,  8.6343e-02,  2.5119e-02, -3.3129e-02,\n",
       "          5.7059e-02, -1.1316e-02, -4.4921e-02, -7.2505e-02,  3.5064e-02,\n",
       "         -7.5155e-04, -9.8120e-02,  6.1287e-02,  8.1804e-02, -4.2636e-02,\n",
       "         -7.4976e-02, -9.2127e-03, -3.1186e-02,  2.0209e-02, -8.1198e-02,\n",
       "         -8.3202e-02, -4.6031e-02, -7.6864e-02,  3.0863e-02,  8.1612e-02,\n",
       "          5.1816e-03,  4.7221e-02,  2.4617e-02, -3.3606e-02, -6.3576e-02,\n",
       "          3.1111e-02, -1.2301e-02, -9.0175e-02,  9.7147e-02, -7.1646e-02,\n",
       "          4.9744e-02,  1.7927e-02,  8.6336e-02, -3.9603e-02,  2.6870e-02,\n",
       "         -7.5823e-02, -7.7200e-02, -2.0462e-03,  9.2931e-02, -3.2260e-03,\n",
       "         -5.5017e-03,  5.5326e-02, -1.1450e-02,  3.0914e-03, -5.1532e-02,\n",
       "         -5.7665e-02,  9.7701e-02, -6.0825e-02, -8.5065e-02,  3.2823e-02,\n",
       "          6.2048e-05,  2.6726e-02, -7.2175e-02,  5.6139e-02,  5.3028e-02,\n",
       "         -3.0885e-02, -5.1073e-02,  3.8721e-02,  3.0237e-02, -5.2618e-02,\n",
       "         -6.3378e-03,  2.0406e-02, -4.9499e-02,  7.8071e-03,  2.2687e-02,\n",
       "          5.6483e-02, -7.6619e-02,  7.4864e-02, -1.6320e-05, -6.2764e-03,\n",
       "          3.9612e-02,  8.2004e-03, -8.9226e-02, -8.7652e-02, -1.8885e-02,\n",
       "          9.6922e-02, -7.7812e-02,  9.4348e-02, -4.4853e-02,  5.5826e-02,\n",
       "          1.4075e-02, -8.3127e-02,  7.5822e-02, -7.2146e-02, -2.4122e-02,\n",
       "         -2.5328e-02,  8.1214e-02, -8.0172e-02, -9.2882e-02,  1.1403e-02,\n",
       "         -2.9778e-02, -6.1454e-02, -6.4561e-02, -9.0998e-02,  8.2919e-02,\n",
       "         -7.8488e-02,  3.2122e-02,  5.4367e-02,  9.1216e-03,  3.0378e-02,\n",
       "          4.1418e-02, -9.1428e-02,  7.1619e-02,  2.3749e-02,  9.4280e-02,\n",
       "         -5.1485e-02, -4.9576e-02,  8.9187e-02, -9.9347e-02, -6.0022e-02]])"
      ]
     },
     "execution_count": 18,
     "metadata": {},
     "output_type": "execute_result"
    }
   ],
   "source": [
    "model.embedding.weight.data.uniform_(-0.1, 0.1)"
   ]
  },
  {
   "cell_type": "code",
   "execution_count": 19,
   "id": "c36a3bc1",
   "metadata": {},
   "outputs": [],
   "source": [
    "optimizer = optim.Adam(model.parameters())\n",
    "criterion = nn.CrossEntropyLoss()\n",
    "device = torch.device(\"cuda\" if torch.cuda.is_available() else \"cpu\")\n",
    "model = model.to(device)\n",
    "criterion = criterion.to(device)"
   ]
  },
  {
   "cell_type": "code",
   "execution_count": 20,
   "id": "820ca4a8",
   "metadata": {},
   "outputs": [],
   "source": [
    "def train(data_loader, model, criterion, optimizer, device):\n",
    "    model.train()\n",
    "    epoch_losses = []\n",
    "    epoch_accs = []\n",
    "    for batch in tqdm.tqdm(data_loader, desc=\"training...\"):\n",
    "        ids = batch[\"ids\"].to(device)\n",
    "        label = batch[\"label\"].to(device)\n",
    "        prediction = model(ids)\n",
    "        loss = criterion(prediction, label)\n",
    "        accuracy = get_accuracy(prediction, label)\n",
    "        optimizer.zero_grad()\n",
    "        loss.backward()\n",
    "        optimizer.step()\n",
    "        epoch_losses.append(loss.item())\n",
    "        epoch_accs.append(accuracy.item())\n",
    "    return np.mean(epoch_losses), np.mean(epoch_accs)"
   ]
  },
  {
   "cell_type": "code",
   "execution_count": 21,
   "id": "9df9f256",
   "metadata": {},
   "outputs": [],
   "source": [
    "def evaluate(data_loader, model, criterion, device):\n",
    "    model.eval()\n",
    "    epoch_losses = []\n",
    "    epoch_accs = []\n",
    "    with torch.no_grad():\n",
    "        for batch in tqdm.tqdm(data_loader, desc=\"evaluating...\"):\n",
    "            ids = batch[\"ids\"].to(device)\n",
    "            label = batch[\"label\"].to(device)\n",
    "            prediction = model(ids)\n",
    "            loss = criterion(prediction, label)\n",
    "            accuracy = get_accuracy(prediction, label)\n",
    "            epoch_losses.append(loss.item())\n",
    "            epoch_accs.append(accuracy.item())\n",
    "    return np.mean(epoch_losses), np.mean(epoch_accs)"
   ]
  },
  {
   "cell_type": "code",
   "execution_count": 22,
   "id": "185b41d9",
   "metadata": {},
   "outputs": [],
   "source": [
    "def get_accuracy(prediction, label):\n",
    "    batch_size, _ = prediction.shape\n",
    "    predicted_classes = prediction.argmax(dim=-1)\n",
    "    correct_predictions = predicted_classes.eq(label).sum()\n",
    "    accuracy = correct_predictions / batch_size\n",
    "    return accuracy"
   ]
  },
  {
   "cell_type": "code",
   "execution_count": 23,
   "id": "f49420fb",
   "metadata": {},
   "outputs": [],
   "source": [
    "n_epochs = 10\n",
    "best_valid_loss = float(\"inf\")\n",
    "metrics = collections.defaultdict(list)"
   ]
  },
  {
   "cell_type": "code",
   "execution_count": 24,
   "id": "8f6389eb",
   "metadata": {},
   "outputs": [
    {
     "name": "stderr",
     "output_type": "stream",
     "text": [
      "training...:   0%|          | 0/1 [00:00<?, ?it/s]huggingface/tokenizers: The current process just got forked, after parallelism has already been used. Disabling parallelism to avoid deadlocks...\n",
      "To disable this warning, you can either:\n",
      "\t- Avoid using `tokenizers` before the fork if possible\n",
      "\t- Explicitly set the environment variable TOKENIZERS_PARALLELISM=(true | false)\n",
      "training...:   0%|          | 0/1 [00:00<?, ?it/s]\n"
     ]
    },
    {
     "name": "stdout",
     "output_type": "stream",
     "text": [
      "KeyError: 0. Please ensure the dataset contains the correct keys.\n"
     ]
    },
    {
     "name": "stderr",
     "output_type": "stream",
     "text": [
      "training...:   0%|          | 0/1 [00:00<?, ?it/s]\n"
     ]
    },
    {
     "name": "stdout",
     "output_type": "stream",
     "text": [
      "KeyError: 0. Please ensure the dataset contains the correct keys.\n"
     ]
    },
    {
     "name": "stderr",
     "output_type": "stream",
     "text": [
      "training...:   0%|          | 0/1 [00:00<?, ?it/s]\n"
     ]
    },
    {
     "name": "stdout",
     "output_type": "stream",
     "text": [
      "KeyError: 1. Please ensure the dataset contains the correct keys.\n"
     ]
    },
    {
     "name": "stderr",
     "output_type": "stream",
     "text": [
      "training...:   0%|          | 0/1 [00:00<?, ?it/s]\n"
     ]
    },
    {
     "name": "stdout",
     "output_type": "stream",
     "text": [
      "KeyError: 0. Please ensure the dataset contains the correct keys.\n"
     ]
    },
    {
     "name": "stderr",
     "output_type": "stream",
     "text": [
      "training...:   0%|          | 0/1 [00:00<?, ?it/s]\n"
     ]
    },
    {
     "name": "stdout",
     "output_type": "stream",
     "text": [
      "KeyError: 0. Please ensure the dataset contains the correct keys.\n"
     ]
    },
    {
     "name": "stderr",
     "output_type": "stream",
     "text": [
      "training...:   0%|          | 0/1 [00:00<?, ?it/s]\n"
     ]
    },
    {
     "name": "stdout",
     "output_type": "stream",
     "text": [
      "KeyError: 1. Please ensure the dataset contains the correct keys.\n"
     ]
    },
    {
     "name": "stderr",
     "output_type": "stream",
     "text": [
      "training...:   0%|          | 0/1 [00:00<?, ?it/s]\n"
     ]
    },
    {
     "name": "stdout",
     "output_type": "stream",
     "text": [
      "KeyError: 0. Please ensure the dataset contains the correct keys.\n"
     ]
    },
    {
     "name": "stderr",
     "output_type": "stream",
     "text": [
      "training...:   0%|          | 0/1 [00:00<?, ?it/s]\n"
     ]
    },
    {
     "name": "stdout",
     "output_type": "stream",
     "text": [
      "KeyError: 0. Please ensure the dataset contains the correct keys.\n"
     ]
    },
    {
     "name": "stderr",
     "output_type": "stream",
     "text": [
      "training...:   0%|          | 0/1 [00:00<?, ?it/s]\n"
     ]
    },
    {
     "name": "stdout",
     "output_type": "stream",
     "text": [
      "KeyError: 0. Please ensure the dataset contains the correct keys.\n"
     ]
    },
    {
     "name": "stderr",
     "output_type": "stream",
     "text": [
      "training...:   0%|          | 0/1 [00:00<?, ?it/s]"
     ]
    },
    {
     "name": "stdout",
     "output_type": "stream",
     "text": [
      "KeyError: 1. Please ensure the dataset contains the correct keys.\n"
     ]
    },
    {
     "name": "stderr",
     "output_type": "stream",
     "text": [
      "\n"
     ]
    }
   ],
   "source": [
    "for epoch in range(n_epochs):\n",
    "    try:\n",
    "        train_loss, train_acc = train(train_data_loader, model, criterion, optimizer, device)\n",
    "        valid_loss, valid_acc = evaluate(valid_data_loader, model, criterion, device)\n",
    "        metrics[\"train_losses\"].append(train_loss)\n",
    "        metrics[\"train_accs\"].append(train_acc)\n",
    "        metrics[\"valid_losses\"].append(valid_loss)\n",
    "        metrics[\"valid_accs\"].append(valid_acc)\n",
    "        if valid_loss < best_valid_loss:\n",
    "            best_valid_loss = valid_loss\n",
    "            torch.save(model.state_dict(), \"nbow.pt\")\n",
    "        print(f\"epoch: {epoch}\")\n",
    "        print(f\"train_loss: {train_loss:.3f}, train_acc: {train_acc:.3f}\")\n",
    "        print(f\"valid_loss: {valid_loss:.3f}, valid_acc: {valid_acc:.3f}\")\n",
    "    except KeyError as e:\n",
    "        print(f\"KeyError: {e}. Please ensure the dataset contains the correct keys.\")"
   ]
  },
  {
   "cell_type": "code",
   "execution_count": 25,
   "id": "e067f027",
   "metadata": {},
   "outputs": [
    {
     "data": {
      "image/png": "[encoded data removed]",
      "text/plain": [
       "<Figure size 1000x600 with 1 Axes>"
      ]
     },
     "metadata": {},
     "output_type": "display_data"
    }
   ],
   "source": [
    "fig = plt.figure(figsize=(10, 6))\n",
    "ax = fig.add_subplot(1, 1, 1)\n",
    "ax.plot(metrics[\"train_losses\"], label=\"train loss\")\n",
    "ax.plot(metrics[\"valid_losses\"], label=\"valid loss\")\n",
    "ax.set_xlabel(\"epoch\")\n",
    "ax.set_ylabel(\"loss\")\n",
    "ax.set_xticks(range(n_epochs))\n",
    "ax.legend()\n",
    "ax.grid()\n",
    "plt.show()"
   ]
  }
 ],
 "metadata": {
  "kernelspec": {
   "display_name": "venv",
   "language": "python",
   "name": "python3"
  },
  "language_info": {
   "codemirror_mode": {
    "name": "ipython",
    "version": 3
   },
   "file_extension": ".py",
   "mimetype": "text/x-python",
   "name": "python",
   "nbconvert_exporter": "python",
   "pygments_lexer": "ipython3",
   "version": "3.12.5"
  }
 },
 "nbformat": 4,
 "nbformat_minor": 5
}
